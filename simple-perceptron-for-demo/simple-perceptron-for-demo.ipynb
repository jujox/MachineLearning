{
 "cells": [
  {
   "cell_type": "code",
   "execution_count": 86,
   "metadata": {},
   "outputs": [
    {
     "name": "stdout",
     "output_type": "stream",
     "text": [
      "   X-param  Y-param  Class\n",
      "0        1        1      1\n",
      "1        1        2      1\n",
      "2        2        4      1\n",
      "3        4        2      1\n",
      "4        6        6      2\n",
      "5        3        8      2\n",
      "6        8        8      2\n",
      "7        5        5      2\n"
     ]
    },
    {
     "data": {
      "image/png": "[encoded data removed]",
      "text/plain": [
       "<Figure size 432x288 with 1 Axes>"
      ]
     },
     "metadata": {
      "needs_background": "light"
     },
     "output_type": "display_data"
    }
   ],
   "source": [
    "import pandas as pd\n",
    "import matplotlib.pyplot as plt\n",
    "\n",
    "\n",
    "df = pd.read_csv('data.csv', header = None, names = ['X-param', 'Y-param', 'Class'], sep = ';')\n",
    "\n",
    "print (df)\n",
    "\n",
    "a_class = df[df['Class'] == 1]\n",
    "b_class = df[df['Class'] == 2]\n",
    "\n",
    "plt.xlim(0, 10)\n",
    "plt.ylim(0,10)\n",
    "plt.scatter(a_class['X-param'], a_class['Y-param'], color = 'blue', marker = 'x', label = 'Class 1')\n",
    "plt.scatter(b_class['X-param'], b_class['Y-param'], color = 'green', marker = 'o', label = 'Class 2')\n",
    "\n",
    "plt.show()"
   ]
  },
  {
   "cell_type": "code",
   "execution_count": 104,
   "metadata": {},
   "outputs": [
    {
     "name": "stdout",
     "output_type": "stream",
     "text": [
      "-- Epoch 1\n",
      "Norm: 0.64, NNZs: 2, Bias: -0.200000, T: 8, Avg. loss: 1.162500\n",
      "Total training time: 0.00 seconds.\n",
      "-- Epoch 2\n",
      "Norm: 0.32, NNZs: 2, Bias: -0.500000, T: 16, Avg. loss: 0.837500\n",
      "Total training time: 0.00 seconds.\n",
      "-- Epoch 3\n",
      "Norm: 0.22, NNZs: 2, Bias: -0.700000, T: 24, Avg. loss: 0.500000\n",
      "Total training time: 0.00 seconds.\n",
      "-- Epoch 4\n",
      "Norm: 0.22, NNZs: 2, Bias: -0.800000, T: 32, Avg. loss: 0.537500\n",
      "Total training time: 0.00 seconds.\n",
      "-- Epoch 5\n",
      "Norm: 0.50, NNZs: 2, Bias: -0.800000, T: 40, Avg. loss: 0.325000\n",
      "Total training time: 0.00 seconds.\n",
      "-- Epoch 6\n",
      "Norm: 0.58, NNZs: 2, Bias: -0.900000, T: 48, Avg. loss: 0.462500\n",
      "Total training time: 0.00 seconds.\n",
      "-- Epoch 7\n",
      "Norm: 0.64, NNZs: 2, Bias: -1.100000, T: 56, Avg. loss: 0.812500\n",
      "Total training time: 0.00 seconds.\n",
      "-- Epoch 8\n",
      "Norm: 0.42, NNZs: 2, Bias: -1.300000, T: 64, Avg. loss: 0.600000\n",
      "Total training time: 0.00 seconds.\n",
      "-- Epoch 9\n",
      "Norm: 0.10, NNZs: 2, Bias: -1.500000, T: 72, Avg. loss: 0.375000\n",
      "Total training time: 0.00 seconds.\n",
      "-- Epoch 10\n",
      "Norm: 0.60, NNZs: 2, Bias: -1.500000, T: 80, Avg. loss: 0.375000\n",
      "Total training time: 0.00 seconds.\n",
      "-- Epoch 11\n",
      "Norm: 0.85, NNZs: 2, Bias: -1.600000, T: 88, Avg. loss: 0.300000\n",
      "Total training time: 0.00 seconds.\n",
      "-- Epoch 12\n",
      "Norm: 1.00, NNZs: 2, Bias: -1.600000, T: 96, Avg. loss: 0.412500\n",
      "Total training time: 0.00 seconds.\n",
      "-- Epoch 13\n",
      "Norm: 1.02, NNZs: 2, Bias: -1.800000, T: 104, Avg. loss: 0.662500\n",
      "Total training time: 0.00 seconds.\n",
      "-- Epoch 14\n",
      "Norm: 0.81, NNZs: 2, Bias: -2.000000, T: 112, Avg. loss: 0.525000\n",
      "Total training time: 0.00 seconds.\n",
      "-- Epoch 15\n",
      "Norm: 0.51, NNZs: 2, Bias: -2.200000, T: 120, Avg. loss: 0.337500\n",
      "Total training time: 0.00 seconds.\n",
      "-- Epoch 16\n",
      "Norm: 0.85, NNZs: 2, Bias: -2.200000, T: 128, Avg. loss: 0.062500\n",
      "Total training time: 0.00 seconds.\n",
      "-- Epoch 17\n",
      "Norm: 0.41, NNZs: 2, Bias: -2.300000, T: 136, Avg. loss: 0.200000\n",
      "Total training time: 0.00 seconds.\n",
      "-- Epoch 18\n",
      "Norm: 0.41, NNZs: 2, Bias: -2.300000, T: 144, Avg. loss: 0.000000\n",
      "Total training time: 0.00 seconds.\n",
      "-- Epoch 19\n",
      "Norm: 0.41, NNZs: 2, Bias: -2.300000, T: 152, Avg. loss: 0.000000\n",
      "Total training time: 0.00 seconds.\n",
      "-- Epoch 20\n",
      "Norm: 0.41, NNZs: 2, Bias: -2.300000, T: 160, Avg. loss: 0.000000\n",
      "Total training time: 0.00 seconds.\n",
      "-- Epoch 21\n",
      "Norm: 0.41, NNZs: 2, Bias: -2.300000, T: 168, Avg. loss: 0.000000\n",
      "Total training time: 0.00 seconds.\n",
      "-- Epoch 22\n",
      "Norm: 0.41, NNZs: 2, Bias: -2.300000, T: 176, Avg. loss: 0.000000\n",
      "Total training time: 0.00 seconds.\n",
      "-- Epoch 23\n",
      "Norm: 0.41, NNZs: 2, Bias: -2.300000, T: 184, Avg. loss: 0.000000\n",
      "Total training time: 0.00 seconds.\n",
      "-- Epoch 24\n",
      "Norm: 0.41, NNZs: 2, Bias: -2.300000, T: 192, Avg. loss: 0.000000\n",
      "Total training time: 0.00 seconds.\n",
      "-- Epoch 25\n",
      "Norm: 0.41, NNZs: 2, Bias: -2.300000, T: 200, Avg. loss: 0.000000\n",
      "Total training time: 0.00 seconds.\n",
      "-- Epoch 26\n",
      "Norm: 0.41, NNZs: 2, Bias: -2.300000, T: 208, Avg. loss: 0.000000\n",
      "Total training time: 0.00 seconds.\n",
      "-- Epoch 27\n",
      "Norm: 0.41, NNZs: 2, Bias: -2.300000, T: 216, Avg. loss: 0.000000\n",
      "Total training time: 0.00 seconds.\n",
      "-- Epoch 28\n",
      "Norm: 0.41, NNZs: 2, Bias: -2.300000, T: 224, Avg. loss: 0.000000\n",
      "Total training time: 0.00 seconds.\n",
      "-- Epoch 29\n",
      "Norm: 0.41, NNZs: 2, Bias: -2.300000, T: 232, Avg. loss: 0.000000\n",
      "Total training time: 0.00 seconds.\n",
      "-- Epoch 30\n",
      "Norm: 0.41, NNZs: 2, Bias: -2.300000, T: 240, Avg. loss: 0.000000\n",
      "Total training time: 0.01 seconds.\n",
      "-- Epoch 31\n",
      "Norm: 0.41, NNZs: 2, Bias: -2.300000, T: 248, Avg. loss: 0.000000\n",
      "Total training time: 0.01 seconds.\n",
      "-- Epoch 32\n",
      "Norm: 0.41, NNZs: 2, Bias: -2.300000, T: 256, Avg. loss: 0.000000\n",
      "Total training time: 0.01 seconds.\n",
      "-- Epoch 33\n",
      "Norm: 0.41, NNZs: 2, Bias: -2.300000, T: 264, Avg. loss: 0.000000\n",
      "Total training time: 0.01 seconds.\n",
      "-- Epoch 34\n",
      "Norm: 0.41, NNZs: 2, Bias: -2.300000, T: 272, Avg. loss: 0.000000\n",
      "Total training time: 0.01 seconds.\n",
      "-- Epoch 35\n",
      "Norm: 0.41, NNZs: 2, Bias: -2.300000, T: 280, Avg. loss: 0.000000\n",
      "Total training time: 0.01 seconds.\n",
      "-- Epoch 36\n",
      "Norm: 0.41, NNZs: 2, Bias: -2.300000, T: 288, Avg. loss: 0.000000\n",
      "Total training time: 0.01 seconds.\n",
      "-- Epoch 37\n",
      "Norm: 0.41, NNZs: 2, Bias: -2.300000, T: 296, Avg. loss: 0.000000\n",
      "Total training time: 0.01 seconds.\n",
      "-- Epoch 38\n",
      "Norm: 0.41, NNZs: 2, Bias: -2.300000, T: 304, Avg. loss: 0.000000\n",
      "Total training time: 0.01 seconds.\n",
      "-- Epoch 39\n",
      "Norm: 0.41, NNZs: 2, Bias: -2.300000, T: 312, Avg. loss: 0.000000\n",
      "Total training time: 0.01 seconds.\n",
      "-- Epoch 40\n",
      "Norm: 0.41, NNZs: 2, Bias: -2.300000, T: 320, Avg. loss: 0.000000\n",
      "Total training time: 0.01 seconds.\n",
      "-- Epoch 41\n",
      "Norm: 0.41, NNZs: 2, Bias: -2.300000, T: 328, Avg. loss: 0.000000\n",
      "Total training time: 0.01 seconds.\n",
      "-- Epoch 42\n",
      "Norm: 0.41, NNZs: 2, Bias: -2.300000, T: 336, Avg. loss: 0.000000\n",
      "Total training time: 0.01 seconds.\n",
      "-- Epoch 43\n",
      "Norm: 0.41, NNZs: 2, Bias: -2.300000, T: 344, Avg. loss: 0.000000\n",
      "Total training time: 0.01 seconds.\n",
      "-- Epoch 44\n",
      "Norm: 0.41, NNZs: 2, Bias: -2.300000, T: 352, Avg. loss: 0.000000\n",
      "Total training time: 0.01 seconds.\n",
      "-- Epoch 45\n",
      "Norm: 0.41, NNZs: 2, Bias: -2.300000, T: 360, Avg. loss: 0.000000\n",
      "Total training time: 0.01 seconds.\n",
      "-- Epoch 46\n",
      "Norm: 0.41, NNZs: 2, Bias: -2.300000, T: 368, Avg. loss: 0.000000\n",
      "Total training time: 0.01 seconds.\n",
      "-- Epoch 47\n",
      "Norm: 0.41, NNZs: 2, Bias: -2.300000, T: 376, Avg. loss: 0.000000\n",
      "Total training time: 0.01 seconds.\n",
      "-- Epoch 48\n",
      "Norm: 0.41, NNZs: 2, Bias: -2.300000, T: 384, Avg. loss: 0.000000\n",
      "Total training time: 0.01 seconds.\n",
      "-- Epoch 49\n",
      "Norm: 0.41, NNZs: 2, Bias: -2.300000, T: 392, Avg. loss: 0.000000\n",
      "Total training time: 0.01 seconds.\n",
      "-- Epoch 50\n",
      "Norm: 0.41, NNZs: 2, Bias: -2.300000, T: 400, Avg. loss: 0.000000\n",
      "Total training time: 0.01 seconds.\n"
     ]
    },
    {
     "data": {
      "text/plain": [
       "Perceptron(alpha=0.0001, class_weight=None, eta0=0.1, fit_intercept=True,\n",
       "      max_iter=50, n_iter=None, n_jobs=1, penalty=None, random_state=1,\n",
       "      shuffle=True, tol=None, verbose=1, warm_start=False)"
      ]
     },
     "execution_count": 104,
     "metadata": {},
     "output_type": "execute_result"
    }
   ],
   "source": [
    "from sklearn.linear_model import Perceptron\n",
    "\n",
    "data = df[['X-param', 'Y-param']]\n",
    "target_class = df['Class']\n",
    "ppn = Perceptron(max_iter=50, eta0=0.1, random_state=1, verbose=1)\n",
    "ppn.fit(data, target_class)"
   ]
  },
  {
   "cell_type": "code",
   "execution_count": 105,
   "metadata": {},
   "outputs": [
    {
     "data": {
      "text/plain": [
       "<matplotlib.collections.PathCollection at 0x1a24efd4a8>"
      ]
     },
     "execution_count": 105,
     "metadata": {},
     "output_type": "execute_result"
    },
    {
     "data": {
      "image/png": "[encoded data removed]",
      "text/plain": [
       "<Figure size 432x288 with 1 Axes>"
      ]
     },
     "metadata": {
      "needs_background": "light"
     },
     "output_type": "display_data"
    }
   ],
   "source": [
    "import numpy as np\n",
    "\n",
    "xx, yy = np.meshgrid(np.arange(0, 10, 0.01),\n",
    "                     np.arange(0, 10, 0.01))\n",
    "Z = ppn.predict(np.array([xx.ravel(), yy.ravel()]).T)\n",
    "Z = Z.reshape(xx.shape)\n",
    "plt.contourf(xx, yy, Z, alpha = 0.1)\n",
    "plt.scatter(a_class['X-param'], a_class['Y-param'], color = 'blue', marker = 'x', label = 'Class 1')\n",
    "plt.scatter(b_class['X-param'], b_class['Y-param'], color = 'green', marker = 'o', label = 'Class 2')\n"
   ]
  },
  {
   "cell_type": "code",
   "execution_count": 106,
   "metadata": {},
   "outputs": [
    {
     "data": {
      "text/plain": [
       "[<matplotlib.lines.Line2D at 0x1a24b03208>]"
      ]
     },
     "execution_count": 106,
     "metadata": {},
     "output_type": "execute_result"
    },
    {
     "data": {
      "image/png": "[encoded data removed]",
      "text/plain": [
       "<Figure size 432x288 with 1 Axes>"
      ]
     },
     "metadata": {
      "needs_background": "light"
     },
     "output_type": "display_data"
    }
   ],
   "source": [
    "#Bias = -2.3\n",
    "\n",
    "xrang = np.arange(0,10,0.01)\n",
    "y = [(2.3 - 0.1*x) / 0.4 for x in xrang] \n",
    "plt.xlim(0, 10)\n",
    "plt.ylim(0,10)\n",
    "plt.scatter(a_class['X-param'], a_class['Y-param'], color = 'blue', marker = 'x', label = 'Class 1')\n",
    "plt.scatter(b_class['X-param'], b_class['Y-param'], color = 'green', marker = 'o', label = 'Class 2')\n",
    "plt.plot(xrang, y)\n"
   ]
  },
  {
   "cell_type": "code",
   "execution_count": null,
   "metadata": {},
   "outputs": [],
   "source": []
  }
 ],
 "metadata": {
  "kernelspec": {
   "display_name": "Python 3",
   "language": "python",
   "name": "python3"
  },
  "language_info": {
   "codemirror_mode": {
    "name": "ipython",
    "version": 3
   },
   "file_extension": ".py",
   "mimetype": "text/x-python",
   "name": "python",
   "nbconvert_exporter": "python",
   "pygments_lexer": "ipython3",
   "version": "3.6.6"
  }
 },
 "nbformat": 4,
 "nbformat_minor": 2
}
