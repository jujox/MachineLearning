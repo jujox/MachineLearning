{
 "cells": [
  {
   "cell_type": "code",
   "execution_count": 1,
   "metadata": {},
   "outputs": [],
   "source": [
    "import pandas as pd\n",
    "import numpy as np\n",
    "\n",
    "train_set_images = pd.read_csv('train.csv')\n"
   ]
  },
  {
   "cell_type": "code",
   "execution_count": 2,
   "metadata": {},
   "outputs": [
    {
     "data": {
      "text/plain": [
       "Text(0.5,1,'1')"
      ]
     },
     "execution_count": 2,
     "metadata": {},
     "output_type": "execute_result"
    },
    {
     "data": {
      "image/png": "[encoded data removed]",
      "text/plain": [
       "<Figure size 432x288 with 1 Axes>"
      ]
     },
     "metadata": {
      "needs_background": "light"
     },
     "output_type": "display_data"
    }
   ],
   "source": [
    "import matplotlib.pyplot as plt, matplotlib.image as mpimg\n",
    "%matplotlib inline\n",
    "\n",
    "# Let's draw some image\n",
    "random_example = np.random.randint(0, len(train_set_images) - 1, 1)\n",
    "some_number = train_set_images.iloc[random_example[0]]\n",
    "pixels = some_number[1:].values.reshape((28,28))\n",
    "plt.imshow(pixels,cmap='gray')\n",
    "plt.title(some_number[0])"
   ]
  },
  {
   "cell_type": "code",
   "execution_count": null,
   "metadata": {},
   "outputs": [
    {
     "name": "stdout",
     "output_type": "stream",
     "text": [
      "Iteration 1, loss = 2.05397915\n",
      "Iteration 2, loss = 0.50300715\n",
      "Iteration 3, loss = 0.38362578\n",
      "Iteration 4, loss = 0.33085456\n",
      "Iteration 5, loss = 0.29622017\n",
      "Iteration 6, loss = 0.27155840\n",
      "Iteration 7, loss = 0.25090221\n",
      "Iteration 8, loss = 0.23470179\n",
      "Iteration 9, loss = 0.22308254\n",
      "Iteration 10, loss = 0.21131451\n",
      "Iteration 11, loss = 0.19961856\n",
      "Iteration 12, loss = 0.19045727\n",
      "Iteration 13, loss = 0.18411217\n",
      "Iteration 14, loss = 0.17586198\n",
      "Iteration 15, loss = 0.16909343\n",
      "Iteration 16, loss = 0.16364244\n",
      "Iteration 17, loss = 0.15873972\n",
      "Iteration 18, loss = 0.15407355\n",
      "Iteration 19, loss = 0.14868977\n",
      "Iteration 20, loss = 0.14342816\n",
      "Iteration 21, loss = 0.14003347\n",
      "Iteration 22, loss = 0.13524540\n",
      "Iteration 23, loss = 0.13124641\n",
      "Iteration 24, loss = 0.12856419\n",
      "Iteration 25, loss = 0.12500996\n",
      "Iteration 26, loss = 0.12287063\n",
      "Iteration 27, loss = 0.11857572\n",
      "Iteration 28, loss = 0.11545597\n",
      "Iteration 29, loss = 0.11286648\n",
      "Iteration 30, loss = 0.11057731\n",
      "Iteration 31, loss = 0.10720763\n",
      "Iteration 32, loss = 0.10502729\n",
      "Iteration 33, loss = 0.10286545\n",
      "Iteration 34, loss = 0.09988296\n",
      "Iteration 35, loss = 0.09913158\n",
      "Iteration 36, loss = 0.09587618\n",
      "Iteration 37, loss = 0.09337012\n",
      "Iteration 38, loss = 0.09130603\n",
      "Iteration 39, loss = 0.08972359\n",
      "Iteration 40, loss = 0.08771601\n",
      "Iteration 41, loss = 0.08493305\n",
      "Iteration 42, loss = 0.08342481\n",
      "Iteration 43, loss = 0.08138632\n",
      "Iteration 44, loss = 0.07858335\n",
      "Iteration 45, loss = 0.07907442\n",
      "Iteration 46, loss = 0.07648701\n",
      "Iteration 47, loss = 0.07393189\n",
      "Iteration 48, loss = 0.07259257\n",
      "Iteration 49, loss = 0.07227288\n",
      "Iteration 50, loss = 0.07074892\n",
      "Iteration 51, loss = 0.07035890\n",
      "Iteration 52, loss = 0.06690832\n",
      "Iteration 53, loss = 0.06615870\n",
      "Iteration 54, loss = 0.06469520\n",
      "Iteration 55, loss = 0.06200087\n",
      "Iteration 56, loss = 0.06173343\n",
      "Iteration 57, loss = 0.06144307\n",
      "Iteration 58, loss = 0.05832572\n",
      "Iteration 59, loss = 0.05778295\n",
      "Iteration 60, loss = 0.05599651\n",
      "Iteration 61, loss = 0.05502985\n",
      "Iteration 62, loss = 0.05399703\n",
      "Iteration 63, loss = 0.05440394\n",
      "Iteration 64, loss = 0.05218051\n",
      "Iteration 65, loss = 0.05075457\n",
      "Iteration 66, loss = 0.05022465\n",
      "Iteration 67, loss = 0.04756178\n",
      "Iteration 68, loss = 0.04746371\n",
      "Iteration 69, loss = 0.04706519\n",
      "Iteration 70, loss = 0.04593574\n",
      "Iteration 71, loss = 0.04459111\n",
      "Iteration 72, loss = 0.04373712\n",
      "Iteration 73, loss = 0.04302889\n",
      "Iteration 74, loss = 0.04141371\n",
      "Iteration 75, loss = 0.04053039\n",
      "Iteration 76, loss = 0.04032597\n",
      "Iteration 77, loss = 0.03984706\n",
      "Iteration 78, loss = 0.03801368\n",
      "Iteration 79, loss = 0.03746456\n",
      "Iteration 80, loss = 0.03660041\n",
      "Iteration 81, loss = 0.03577847\n",
      "Iteration 82, loss = 0.03417485\n",
      "Iteration 83, loss = 0.03448537\n",
      "Iteration 84, loss = 0.03448368\n",
      "Iteration 85, loss = 0.03375981\n",
      "Iteration 86, loss = 0.03196424\n",
      "Iteration 87, loss = 0.03033657\n",
      "Iteration 88, loss = 0.03217363\n",
      "Iteration 89, loss = 0.03294891\n"
     ]
    }
   ],
   "source": [
    "from sklearn.neural_network import MLPClassifier\n",
    "from sklearn.model_selection import train_test_split\n",
    "\n",
    "clf = MLPClassifier(solver='sgd', alpha=0.0001, hidden_layer_sizes=(100, 100, 100), random_state=1, verbose=10)\n",
    "labels = train_set_images['label']\n",
    "pixels = train_set_images.iloc[:,1:]\n",
    "pixels_train, pixels_test, labels_train, labels_test = train_test_split(pixels,labels, test_size= 0.2, random_state=27)\n",
    "clf.fit(pixels_train, labels_train)\n"
   ]
  },
  {
   "cell_type": "code",
   "execution_count": null,
   "metadata": {},
   "outputs": [],
   "source": [
    "predictions = clf.predict(pixels_test)\n",
    "from sklearn.metrics import accuracy_score\n",
    "accuracy_score(labels_test, predictions)"
   ]
  },
  {
   "cell_type": "code",
   "execution_count": null,
   "metadata": {},
   "outputs": [],
   "source": [
    "test_set_images = pd.read_csv('test.csv')\n",
    "predictions_test_set = clf.predict(test_set_images)\n",
    "df = pd.DataFrame(predictions_test_set)\n",
    "df.index.name='ImageId'\n",
    "df.index+=1\n",
    "df.columns=['Label']\n",
    "df.to_csv('results.csv', header=True, index = True, index_label = 'ImageId')"
   ]
  },
  {
   "cell_type": "code",
   "execution_count": null,
   "metadata": {},
   "outputs": [],
   "source": []
  }
 ],
 "metadata": {
  "kernelspec": {
   "display_name": "Python 3",
   "language": "python",
   "name": "python3"
  },
  "language_info": {
   "codemirror_mode": {
    "name": "ipython",
    "version": 3
   },
   "file_extension": ".py",
   "mimetype": "text/x-python",
   "name": "python",
   "nbconvert_exporter": "python",
   "pygments_lexer": "ipython3",
   "version": "3.6.6"
  }
 },
 "nbformat": 4,
 "nbformat_minor": 2
}
